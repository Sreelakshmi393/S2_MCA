{
 "cells": [
  {
   "cell_type": "code",
   "execution_count": 1,
   "metadata": {},
   "outputs": [],
   "source": [
    "import pymongo"
   ]
  },
  {
   "cell_type": "code",
   "execution_count": 3,
   "metadata": {},
   "outputs": [],
   "source": [
    "client = pymongo.MongoClient(\"mongodb://localhost:27017\")\n",
    "db = client[\"college\"]\n",
    "collection =  db[\"studlist\"]"
   ]
  },
  {
   "cell_type": "markdown",
   "metadata": {},
   "source": [
    "## CREATE"
   ]
  },
  {
   "cell_type": "code",
   "execution_count": 6,
   "metadata": {},
   "outputs": [
    {
     "name": "stdout",
     "output_type": "stream",
     "text": [
      "Inserted successfully\n"
     ]
    }
   ],
   "source": [
    "student = [{'_id': 1, 'name': {'fname': 'Athira', 'lname': 'Krishnan'}, 'address': {'house_name': 'Ambadi', 'city': 'Kollam'}, 'gender': 'female', 'course': 'MCA', 'mark': 80, 'grade': 'A', 'phone': {'type': 'mobile', 'no': 9896321450}},\n",
    "{'_id': 2, 'name': {'fname': 'Arya', 'lname': 'S'}, 'address': {'house_name': 'M.B.S.Bhavan', 'city': 'Varkala'}, 'gender': 'female', 'course': 'Computer Science', 'mark': 90, 'grade': 'A+', 'phone': {'type': 'mobile', 'no': 9446321420}},\n",
    "{'_id': 3, 'name': {'fname': 'Varun', 'lname': 'Nair'}, 'address': {'house_name': 'Koustubham', 'city': 'Thiruvananthapuram'}, 'gender': 'male', 'course': 'MCA', 'mark': 70, 'grade': 'B+', 'phone': {'type': 'land', 'no': '04712662690'}},\n",
    "{'_id': 4, 'name': {'fname': 'Vidhya', 'lname': 'S'}, 'address': {'house_name': 'MRS House', 'city': 'Kadakkavoor'}, 'gender': 'female', 'course': 'Civil', 'mark': 85, 'grade': 'A', 'phone': {'type': 'mobile', 'no': 8146321420}},\n",
    "{'_id': 5, 'name': {'fname': 'Karthik', 'lname': 'MS'}, 'address': {'house_name': 'Devi', 'city': 'Thiruvananthapuram'}, 'gender': 'male', 'course': 'MCA', 'mark': 60, 'grade': 'B', 'phone': {'type': 'land', 'no': '04712663890'}},\n",
    "{'_id': 6, 'name': {'fname': 'Yadu', 'lname': 'Kannan'}, 'address': {'house_name': 'Sreenilayam', 'city': 'Kollam'}, 'gender': 'male', 'course': 'Mechanical', 'mark': 85, 'grade': 'A', 'phone': {'type': 'mobile', 'no': 9446321780}},\n",
    "{'_id': 7, 'name': {'fname': 'Vivek', 'lname': 'Bose'}, 'address': {'house_name': 'Kallu', 'city': 'Ernakulam'}, 'gender': 'male', 'course': 'MCA', 'mark': 60, 'grade': 'B', 'phone': {'type': 'land', 'no': '04842663890'}},\n",
    "{'_id': 8, 'name': {'fname': 'Kavya', 'lname': 'Mohan'}, 'address': {'house_name': 'Kavyanjali', 'city': 'Kollam'}, 'gender': 'female', 'course': 'Mechanical', 'mark': 95, 'grade': 'A+', 'phone': {'type': 'mobile', 'no': 9448399780}},\n",
    "{'_id': 9, 'name': {'fname': 'Divya', 'lname': 'Vijayan'}, 'address': {'house_name': 'Divyalayam', 'city': 'Varkala'}, 'gender': 'female', 'course': 'MCA', 'mark': 70, 'grade': 'B+', 'phone': {'type': 'land', 'no': '04702667890'}},\n",
    "{'_id': 10, 'name': {'fname': 'Vimal', 'lname': 'Vinayan'}, 'address': {'house_name': 'Vimala Bhavan', 'city': 'Kollam'}, 'gender': 'male', 'course': 'Mechanical', 'mark': 90, 'grade': 'A+', 'phone': {'type': 'mobile', 'no': 8185399780}},\n",
    "{'_id': 11, 'name': {'fname': 'Renuka', 'lname': 'Vijayan'}, 'address': {'house_name': 'Sreevilasam', 'city': 'Thiruvananthapuram'}, 'gender': 'female', 'course': 'MCA', 'mark': 82, 'grade': 'A', 'phone': {'type': 'land', 'no': '04712547890'}},\n",
    "{'_id': 12, 'name': {'fname': 'Vimal', 'lname': 'Bose'}, 'address': {'house_name': 'Vimalam', 'city': 'Ernakulam'}, 'gender': 'male', 'course': 'MCA', 'mark': 90, 'grade': 'A+', 'phone': {'type': 'mobile', 'no': 9485399780}},\n",
    "{'_id': 13, 'name': {'fname': 'Remya', 'lname': 'V'}, 'address': {'house_name': 'Sree', 'city': 'Thiruvananthapuram'}, 'gender': 'female', 'course': 'MCA', 'mark': 85, 'grade': 'A', 'phone': {'type': 'land', 'no': '04712647890'}},\n",
    "{'_id': 14, 'name': {'fname': 'Vinod', 'lname': 'Paniker'}, 'address': {'house_name': 'Deepam', 'city': 'Ernakulam'}, 'gender': 'male', 'course': 'MCA', 'mark': 70, 'grade': 'B', 'phone': {'type': 'mobile', 'no': 9445399787}},\n",
    "{'_id': 15, 'name': {'fname': 'Remya', 'lname': 'Sugunan'}, 'address': {'house_name': 'Remya vilasam', 'city': 'Thiruvananthapuram'}, 'gender': 'female', 'course': 'MCA', 'mark': 72, 'grade': 'B+', 'phone': {'type': 'land', 'no': '04712648890'}},\n",
    "{'_id': 16, 'name': {'fname': 'Jabin', 'lname': 'S'}, 'address': {'house_name': 'Deepam', 'city': 'Kollam'}, 'gender': 'male', 'course': 'Civil', 'mark': 70, 'grade': 'B', 'phone': {'type': 'mobile', 'no': 9485399787}},\n",
    "{'_id': 17, 'name': {'fname': 'Vidhya', 'lname': 'Sugunan'}, 'address': {'house_name': 'vidhya vilasam', 'city': 'Thiruvananthapuram'}, 'gender': 'female', 'course': 'MCA', 'mark': 79, 'grade': 'B+', 'phone': {'type': 'land', 'no': '04712647790'}},\n",
    "{'_id': 18, 'name': {'fname': 'Arya', 'lname': 'Satheesh'}, 'address': {'house_name': 'Arya Bhavan', 'city': 'Kollam'}, 'gender': 'female', 'course': 'Civil', 'mark': 90, 'grade': 'A+', 'phone': {'type': 'mobile', 'no': 9445399787}},\n",
    "{'_id': 19, 'name': {'fname': 'Soorya', 'lname': 'S'}, 'address': {'house_name': 'Meena Bhavan', 'city': 'Thiruvananthapuram'}, 'gender': 'female', 'course': 'MCA', 'mark': 79, 'grade': 'B+', 'phone': {'type': 'land', 'no': '04712647890'}}, \n",
    "           {'_id': 20, 'name': {'fname': 'Amritha', 'lname': 'S'}, 'address': {'house_name': 'Arya Bhavan', 'city': 'Varkala'}, 'gender': 'female', 'course': 'MCA', 'mark': 99, 'grade': 'A+', 'phone': {'type': 'mobile', 'no': 9445365787}},\n",
    "{'_id': 21, 'name': {'fname': 'Soorya', 'lname': 'P'}, 'address': {'house_name': 'Soorya Bhavan', 'city': 'Thiruvananthapuram'}, 'gender': 'female', 'course': 'MCA', 'mark': 74, 'grade': 'B+', 'phone': {'type': 'land', 'no': '04712641890'}},\n",
    "{'_id': 22, 'name': {'fname': 'Arun', 'lname': 'S'}, 'address': {'house_name': 'Arun Bhavan', 'city': 'Attingal'}, 'gender': 'male', 'course': 'MCA', 'mark': 91, 'grade': 'A+', 'phone': {'type': 'mobile', 'no': 9445366987}},\n",
    "{'_id': 23, 'name': {'fname': 'Sayooj', 'lname': 'Kiran'}, 'address': {'house_name': 'Kiran Bhavan', 'city': 'Thiruvananthapuram'}, 'gender': 'male', 'course': 'Civil', 'mark': 74, 'grade': 'B+', 'phone': {'type': 'land', 'no': '04712721890'}},\n",
    "{'_id': 24, 'name': {'fname': 'Abhilash', 'lname': 'S'}, 'address': {'house_name': 'Dhanya Bhavan', 'city': 'Attingal'}, 'gender': 'male', 'course': 'Mechanical', 'mark': 75, 'grade': 'B+', 'phone': {'type': 'mobile', 'no': 8182366987}},\n",
    "{'_id': 25, 'name': {'fname': 'Sree', 'lname': 'Raj'}, 'address': {'house_name': 'Sree', 'city': 'Varkala'}, 'gender': 'male', 'course': 'Civil', 'mark': 74, 'grade': 'B+', 'phone': {'type': 'land', 'no': '04702721890'}}]\n",
    "\n",
    "if(collection.insert_many(student)):\n",
    "    print(\"Inserted successfully\")\n",
    "else:\n",
    "    print(\"Insertion failed\");"
   ]
  },
  {
   "cell_type": "markdown",
   "metadata": {},
   "source": [
    "## READ"
   ]
  },
  {
   "cell_type": "code",
   "execution_count": 9,
   "metadata": {},
   "outputs": [
    {
     "name": "stdout",
     "output_type": "stream",
     "text": [
      "{'_id': 26, 'name': {'fname': 'John', 'lname': 'Doe'}, 'address': {'house_name': 'Bhargavinilayam', 'city': 'Madurai'}, 'gender': 'male', 'course': 'MCA', 'mark': 80, 'grade': 'A', 'phone': {'type': 'mobile', 'no': 9445395787}}\n",
      "{'_id': 27, 'name': {'fname': 'sreelakshmi', 'lname': 'Anilkumar'}, 'address': {'house_name': 'Madathilparambil', 'city': 'Kottayam'}, 'gender': 'female', 'course': 'MCA', 'mark': 80, 'grade': 'A', 'phone': {'type': 'mobile', 'no': 9876548765}}\n",
      "{'_id': 28, 'name': {'fname': 'Amritha', 'lname': 'Nair'}, 'address': {'house_name': 'Puthuparambil', 'city': 'Pathanamthitta'}, 'gender': 'female', 'course': 'MCA', 'mark': 88, 'grade': 'A', 'phone': {'type': 'mobile', 'no': 9876543287}}\n",
      "{'_id': 1, 'name': {'fname': 'Athira', 'lname': 'Krishnan'}, 'address': {'house_name': 'Ambadi', 'city': 'Kollam'}, 'gender': 'female', 'course': 'MCA', 'mark': 80, 'grade': 'A', 'phone': {'type': 'mobile', 'no': 9896321450}}\n",
      "{'_id': 2, 'name': {'fname': 'Arya', 'lname': 'S'}, 'address': {'house_name': 'M.B.S.Bhavan', 'city': 'Varkala'}, 'gender': 'female', 'course': 'Computer Science', 'mark': 90, 'grade': 'A+', 'phone': {'type': 'mobile', 'no': 9446321420}}\n",
      "{'_id': 3, 'name': {'fname': 'Varun', 'lname': 'Nair'}, 'address': {'house_name': 'Koustubham', 'city': 'Thiruvananthapuram'}, 'gender': 'male', 'course': 'MCA', 'mark': 70, 'grade': 'B+', 'phone': {'type': 'land', 'no': '04712662690'}}\n",
      "{'_id': 4, 'name': {'fname': 'Vidhya', 'lname': 'S'}, 'address': {'house_name': 'MRS House', 'city': 'Kadakkavoor'}, 'gender': 'female', 'course': 'Civil', 'mark': 85, 'grade': 'A', 'phone': {'type': 'mobile', 'no': 8146321420}}\n",
      "{'_id': 5, 'name': {'fname': 'Karthik', 'lname': 'MS'}, 'address': {'house_name': 'Devi', 'city': 'Thiruvananthapuram'}, 'gender': 'male', 'course': 'MCA', 'mark': 60, 'grade': 'B', 'phone': {'type': 'land', 'no': '04712663890'}}\n",
      "{'_id': 6, 'name': {'fname': 'Yadu', 'lname': 'Kannan'}, 'address': {'house_name': 'Sreenilayam', 'city': 'Kollam'}, 'gender': 'male', 'course': 'Mechanical', 'mark': 85, 'grade': 'A', 'phone': {'type': 'mobile', 'no': 9446321780}}\n",
      "{'_id': 7, 'name': {'fname': 'Vivek', 'lname': 'Bose'}, 'address': {'house_name': 'Kallu', 'city': 'Ernakulam'}, 'gender': 'male', 'course': 'MCA', 'mark': 60, 'grade': 'B', 'phone': {'type': 'land', 'no': '04842663890'}}\n",
      "{'_id': 8, 'name': {'fname': 'Kavya', 'lname': 'Mohan'}, 'address': {'house_name': 'Kavyanjali', 'city': 'Kollam'}, 'gender': 'female', 'course': 'Mechanical', 'mark': 95, 'grade': 'A+', 'phone': {'type': 'mobile', 'no': 9448399780}}\n",
      "{'_id': 9, 'name': {'fname': 'Divya', 'lname': 'Vijayan'}, 'address': {'house_name': 'Divyalayam', 'city': 'Varkala'}, 'gender': 'female', 'course': 'MCA', 'mark': 70, 'grade': 'B+', 'phone': {'type': 'land', 'no': '04702667890'}}\n",
      "{'_id': 10, 'name': {'fname': 'Vimal', 'lname': 'Vinayan'}, 'address': {'house_name': 'Vimala Bhavan', 'city': 'Kollam'}, 'gender': 'male', 'course': 'Mechanical', 'mark': 90, 'grade': 'A+', 'phone': {'type': 'mobile', 'no': 8185399780}}\n",
      "{'_id': 11, 'name': {'fname': 'Renuka', 'lname': 'Vijayan'}, 'address': {'house_name': 'Sreevilasam', 'city': 'Thiruvananthapuram'}, 'gender': 'female', 'course': 'MCA', 'mark': 82, 'grade': 'A', 'phone': {'type': 'land', 'no': '04712547890'}}\n",
      "{'_id': 12, 'name': {'fname': 'Vimal', 'lname': 'Bose'}, 'address': {'house_name': 'Vimalam', 'city': 'Ernakulam'}, 'gender': 'male', 'course': 'MCA', 'mark': 90, 'grade': 'A+', 'phone': {'type': 'mobile', 'no': 9485399780}}\n",
      "{'_id': 13, 'name': {'fname': 'Remya', 'lname': 'V'}, 'address': {'house_name': 'Sree', 'city': 'Thiruvananthapuram'}, 'gender': 'female', 'course': 'MCA', 'mark': 85, 'grade': 'A', 'phone': {'type': 'land', 'no': '04712647890'}}\n",
      "{'_id': 14, 'name': {'fname': 'Vinod', 'lname': 'Paniker'}, 'address': {'house_name': 'Deepam', 'city': 'Ernakulam'}, 'gender': 'male', 'course': 'MCA', 'mark': 70, 'grade': 'B', 'phone': {'type': 'mobile', 'no': 9445399787}}\n",
      "{'_id': 15, 'name': {'fname': 'Remya', 'lname': 'Sugunan'}, 'address': {'house_name': 'Remya vilasam', 'city': 'Thiruvananthapuram'}, 'gender': 'female', 'course': 'MCA', 'mark': 72, 'grade': 'B+', 'phone': {'type': 'land', 'no': '04712648890'}}\n",
      "{'_id': 16, 'name': {'fname': 'Jabin', 'lname': 'S'}, 'address': {'house_name': 'Deepam', 'city': 'Kollam'}, 'gender': 'male', 'course': 'Civil', 'mark': 70, 'grade': 'B', 'phone': {'type': 'mobile', 'no': 9485399787}}\n",
      "{'_id': 17, 'name': {'fname': 'Vidhya', 'lname': 'Sugunan'}, 'address': {'house_name': 'vidhya vilasam', 'city': 'Thiruvananthapuram'}, 'gender': 'female', 'course': 'MCA', 'mark': 79, 'grade': 'B+', 'phone': {'type': 'land', 'no': '04712647790'}}\n",
      "{'_id': 18, 'name': {'fname': 'Arya', 'lname': 'Satheesh'}, 'address': {'house_name': 'Arya Bhavan', 'city': 'Kollam'}, 'gender': 'female', 'course': 'Civil', 'mark': 90, 'grade': 'A+', 'phone': {'type': 'mobile', 'no': 9445399787}}\n",
      "{'_id': 19, 'name': {'fname': 'Soorya', 'lname': 'S'}, 'address': {'house_name': 'Meena Bhavan', 'city': 'Thiruvananthapuram'}, 'gender': 'female', 'course': 'MCA', 'mark': 79, 'grade': 'B+', 'phone': {'type': 'land', 'no': '04712647890'}}\n",
      "{'_id': 20, 'name': {'fname': 'Amritha', 'lname': 'S'}, 'address': {'house_name': 'Arya Bhavan', 'city': 'Varkala'}, 'gender': 'female', 'course': 'MCA', 'mark': 99, 'grade': 'A+', 'phone': {'type': 'mobile', 'no': 9445365787}}\n",
      "{'_id': 21, 'name': {'fname': 'Soorya', 'lname': 'P'}, 'address': {'house_name': 'Soorya Bhavan', 'city': 'Thiruvananthapuram'}, 'gender': 'female', 'course': 'MCA', 'mark': 74, 'grade': 'B+', 'phone': {'type': 'land', 'no': '04712641890'}}\n",
      "{'_id': 22, 'name': {'fname': 'Arun', 'lname': 'S'}, 'address': {'house_name': 'Arun Bhavan', 'city': 'Attingal'}, 'gender': 'male', 'course': 'MCA', 'mark': 91, 'grade': 'A+', 'phone': {'type': 'mobile', 'no': 9445366987}}\n",
      "{'_id': 23, 'name': {'fname': 'Sayooj', 'lname': 'Kiran'}, 'address': {'house_name': 'Kiran Bhavan', 'city': 'Thiruvananthapuram'}, 'gender': 'male', 'course': 'Civil', 'mark': 74, 'grade': 'B+', 'phone': {'type': 'land', 'no': '04712721890'}}\n",
      "{'_id': 24, 'name': {'fname': 'Abhilash', 'lname': 'S'}, 'address': {'house_name': 'Dhanya Bhavan', 'city': 'Attingal'}, 'gender': 'male', 'course': 'Mechanical', 'mark': 75, 'grade': 'B+', 'phone': {'type': 'mobile', 'no': 8182366987}}\n",
      "{'_id': 25, 'name': {'fname': 'Sree', 'lname': 'Raj'}, 'address': {'house_name': 'Sree', 'city': 'Varkala'}, 'gender': 'male', 'course': 'Civil', 'mark': 74, 'grade': 'B+', 'phone': {'type': 'land', 'no': '04702721890'}}\n"
     ]
    }
   ],
   "source": [
    "x = collection.find()\n",
    "for i in x:\n",
    "    print(i)"
   ]
  },
  {
   "cell_type": "markdown",
   "metadata": {},
   "source": [
    "## UPDATE"
   ]
  },
  {
   "cell_type": "code",
   "execution_count": 15,
   "metadata": {},
   "outputs": [
    {
     "name": "stdout",
     "output_type": "stream",
     "text": [
      "Updated successfully\n",
      "{'_id': 23, 'name': {'fname': 'Sooraj', 'lname': 'A T'}, 'address': {'house_name': 'Kiran Bhavan', 'city': 'Thiruvananthapuram'}, 'gender': 'male', 'course': 'Civil', 'mark': 74, 'grade': 'B+', 'phone': {'type': 'land', 'no': '04712721890'}}\n"
     ]
    }
   ],
   "source": [
    "index = {\"_id\":23}\n",
    "val = {\"$set\":{\"name.fname\":\"Sooraj\",\"name.lname\":\"A T\"}}\n",
    "x = collection.update_one(index, val)\n",
    "\n",
    "if x:\n",
    "    print(\"Updated successfully\")\n",
    "\n",
    "print([stud for stud in collection.find(index)][0])"
   ]
  },
  {
   "cell_type": "markdown",
   "metadata": {},
   "source": [
    "## DELETE"
   ]
  },
  {
   "cell_type": "code",
   "execution_count": 22,
   "metadata": {},
   "outputs": [
    {
     "name": "stdout",
     "output_type": "stream",
     "text": [
      "Deleted successfully\n"
     ]
    }
   ],
   "source": [
    "index = [27,26]\n",
    "if collection.delete_many({\"_id\":{\"$in\":index}}):\n",
    "    print(\"Deleted successfully\")"
   ]
  },
  {
   "cell_type": "code",
   "execution_count": 25,
   "metadata": {},
   "outputs": [
    {
     "name": "stdout",
     "output_type": "stream",
     "text": [
      "Details of students with mark\n",
      "Name :  Athira Krishnan\n",
      "Mark :  80\n",
      "Name :  Divya Vijayan\n",
      "Mark :  70\n",
      "Name :  Renuka Vijayan\n",
      "Mark :  82\n",
      "Name :  Remya V\n",
      "Mark :  85\n",
      "Name :  Remya Sugunan\n",
      "Mark :  72\n",
      "Name :  Vidhya Sugunan\n",
      "Mark :  79\n",
      "Name :  Soorya S\n",
      "Mark :  79\n",
      "Name :  Amritha S\n",
      "Mark :  99\n",
      "Name :  Soorya P\n",
      "Mark :  74\n"
     ]
    }
   ],
   "source": [
    "print(\"Details of students with mark\")\n",
    "for stud in collection.find({'gender':'female','course':'MCA'}):\n",
    "    print(\"Name : \",stud[\"name\"][\"fname\"]+\" \"+stud[\"name\"][\"lname\"])\n",
    "    print(\"Mark : \",stud[\"mark\"])"
   ]
  },
  {
   "cell_type": "code",
   "execution_count": 31,
   "metadata": {},
   "outputs": [
    {
     "name": "stdout",
     "output_type": "stream",
     "text": [
      "Student with highest mark in MCA\n",
      "Name :  Amritha S\n",
      "Mark :  99\n"
     ]
    }
   ],
   "source": [
    "print(\"Student with highest mark in MCA\")\n",
    "for stud in collection.find({'course':'MCA'}).sort('mark',-1).limit(1):\n",
    "    print(\"Name : \", stud['name']['fname']+\" \"+stud['name']['lname'])\n",
    "    print(\"Mark : \",stud[\"mark\"])"
   ]
  },
  {
   "cell_type": "code",
   "execution_count": 33,
   "metadata": {},
   "outputs": [
    {
     "name": "stdout",
     "output_type": "stream",
     "text": [
      "Male students scored A+\n",
      "Name :  Vimal Vinayan\n",
      "Name :  Vimal Bose\n",
      "Name :  Arun S\n"
     ]
    }
   ],
   "source": [
    "print(\"Male students scored A+\")\n",
    "for stud in collection.find({'gender':'male','grade':'A+'}):\n",
    "    print(\"Name : \",stud['name']['fname']+\" \"+stud['name']['lname'])"
   ]
  },
  {
   "cell_type": "code",
   "execution_count": 36,
   "metadata": {},
   "outputs": [
    {
     "name": "stdout",
     "output_type": "stream",
     "text": [
      "Top three students in Mechanical Department\n",
      "Name :  Kavya Mohan\n",
      "Mark :  95\n",
      "Name :  Vimal Vinayan\n",
      "Mark :  90\n",
      "Name :  Yadu Kannan\n",
      "Mark :  85\n"
     ]
    }
   ],
   "source": [
    "print(\"Top three students in Mechanical Department\")\n",
    "for stud in collection.find({'course':'Mechanical'}).sort('mark',-1).limit(3):\n",
    "    print(\"Name : \",stud['name']['fname']+\" \"+stud['name']['lname'])\n",
    "    print(\"Mark : \",stud['mark'])"
   ]
  },
  {
   "cell_type": "code",
   "execution_count": 39,
   "metadata": {},
   "outputs": [
    {
     "name": "stdout",
     "output_type": "stream",
     "text": [
      "Students with mark greater than 90\n",
      "Name :  Kavya Mohan\n",
      "Mark :  95\n",
      "Name :  Amritha S\n",
      "Mark :  99\n"
     ]
    }
   ],
   "source": [
    "print(\"Students with mark greater than 90\")\n",
    "for stud in collection.find({'gender':'female','mark':{'$gt':90}}):\n",
    "    print(\"Name : \",stud['name']['fname']+\" \"+stud['name']['lname'])\n",
    "    print(\"Mark : \",stud['mark'])"
   ]
  },
  {
   "cell_type": "code",
   "execution_count": 40,
   "metadata": {},
   "outputs": [
    {
     "name": "stdout",
     "output_type": "stream",
     "text": [
      "Students with mark between 80 and 90\n",
      "Name :  Vidhya S\n",
      "Name :  Yadu Kannan\n",
      "Name :  Renuka Vijayan\n",
      "Name :  Remya V\n"
     ]
    }
   ],
   "source": [
    "print(\"Students with mark between 80 and 90\")\n",
    "for stud in collection.find({'mark':{'$gt':80,'$lt':90}}):\n",
    "    print(\"Name : \",stud['name']['fname']+\" \"+stud['name']['lname'])"
   ]
  },
  {
   "cell_type": "code",
   "execution_count": 48,
   "metadata": {},
   "outputs": [
    {
     "name": "stdout",
     "output_type": "stream",
     "text": [
      "Students with name starting with V\n",
      "Name :  Varun Nair\n",
      "Name :  Vidhya S\n",
      "Name :  Vivek Bose\n",
      "Name :  Vimal Vinayan\n",
      "Name :  Vimal Bose\n",
      "Name :  Vinod Paniker\n",
      "Name :  Vidhya Sugunan\n"
     ]
    }
   ],
   "source": [
    "print(\"Students with name starting with V\")\n",
    "for stud in collection.find({'name.fname':{'$regex':'^V'}}):\n",
    "    print(\"Name : \",stud['name']['fname']+\" \"+stud['name']['lname'])"
   ]
  },
  {
   "cell_type": "code",
   "execution_count": 55,
   "metadata": {},
   "outputs": [
    {
     "name": "stdout",
     "output_type": "stream",
     "text": [
      "Students from Kollam\n",
      "Name :  Athira Krishnan\n",
      "City ;  Kollam\n",
      "Name :  Yadu Kannan\n",
      "City ;  Kollam\n",
      "Name :  Kavya Mohan\n",
      "City ;  Kollam\n",
      "Name :  Vimal Vinayan\n",
      "City ;  Kollam\n",
      "Name :  Jabin S\n",
      "City ;  Kollam\n",
      "Name :  Arya Satheesh\n",
      "City ;  Kollam\n"
     ]
    }
   ],
   "source": [
    "print(\"Students from Kollam\")\n",
    "for stud in collection.find({\"address.city\":'Kollam'}):\n",
    "    print(\"Name : \",stud['name']['fname']+\" \"+stud['name']['lname'])\n",
    "    print(\"City ; \",stud['address']['city'])"
   ]
  },
  {
   "cell_type": "code",
   "execution_count": 56,
   "metadata": {},
   "outputs": [
    {
     "name": "stdout",
     "output_type": "stream",
     "text": [
      "Students from neither Kollam nor Trivandrum\n",
      "Name :  Arya S\n",
      "City ;  Varkala\n",
      "Name :  Vidhya S\n",
      "City ;  Kadakkavoor\n",
      "Name :  Vivek Bose\n",
      "City ;  Ernakulam\n",
      "Name :  Divya Vijayan\n",
      "City ;  Varkala\n",
      "Name :  Vimal Bose\n",
      "City ;  Ernakulam\n",
      "Name :  Vinod Paniker\n",
      "City ;  Ernakulam\n",
      "Name :  Amritha S\n",
      "City ;  Varkala\n",
      "Name :  Arun S\n",
      "City ;  Attingal\n",
      "Name :  Abhilash S\n",
      "City ;  Attingal\n",
      "Name :  Sree Raj\n",
      "City ;  Varkala\n"
     ]
    }
   ],
   "source": [
    "print(\"Students from neither Kollam nor Trivandrum\")\n",
    "for stud in collection.find({\"address.city\":{\"$nin\":['Kollam',\"Thiruvananthapuram\"]}}):\n",
    "    print(\"Name : \",stud['name']['fname']+\" \"+stud['name']['lname'])\n",
    "    print(\"City ; \",stud['address']['city'])"
   ]
  },
  {
   "cell_type": "code",
   "execution_count": 58,
   "metadata": {},
   "outputs": [
    {
     "name": "stdout",
     "output_type": "stream",
     "text": [
      "Female students from either Kollam or Trivandrum\n",
      "Name :  Athira Krishnan\n",
      "City :  Kollam\n",
      "Name :  Kavya Mohan\n",
      "City :  Kollam\n",
      "Name :  Renuka Vijayan\n",
      "City :  Thiruvananthapuram\n",
      "Name :  Remya V\n",
      "City :  Thiruvananthapuram\n",
      "Name :  Remya Sugunan\n",
      "City :  Thiruvananthapuram\n",
      "Name :  Vidhya Sugunan\n",
      "City :  Thiruvananthapuram\n",
      "Name :  Arya Satheesh\n",
      "City :  Kollam\n",
      "Name :  Soorya S\n",
      "City :  Thiruvananthapuram\n",
      "Name :  Soorya P\n",
      "City :  Thiruvananthapuram\n"
     ]
    }
   ],
   "source": [
    "print(\"Female students from either Kollam or Trivandrum\")\n",
    "for stud in collection.find({'gender':'female','address.city':{'$in':['Kollam','Thiruvananthapuram']}}):\n",
    "    print('Name : ',stud['name']['fname']+\" \"+stud['name']['lname'])\n",
    "    print(\"City : \",stud['address']['city'])"
   ]
  },
  {
   "cell_type": "code",
   "execution_count": null,
   "metadata": {},
   "outputs": [],
   "source": []
  }
 ],
 "metadata": {
  "kernelspec": {
   "display_name": "Python 3 (ipykernel)",
   "language": "python",
   "name": "python3"
  },
  "language_info": {
   "codemirror_mode": {
    "name": "ipython",
    "version": 3
   },
   "file_extension": ".py",
   "mimetype": "text/x-python",
   "name": "python",
   "nbconvert_exporter": "python",
   "pygments_lexer": "ipython3",
   "version": "3.12.4"
  }
 },
 "nbformat": 4,
 "nbformat_minor": 4
}
